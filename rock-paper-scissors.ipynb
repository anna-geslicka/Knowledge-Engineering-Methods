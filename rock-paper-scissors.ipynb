{
 "cells": [
  {
   "cell_type": "code",
   "execution_count": 2,
   "metadata": {
    "pycharm": {
     "is_executing": true,
     "name": "#%%\n"
    }
   },
   "outputs": [
    {
     "ename": "NameError",
     "evalue": "name 'set_trans' is not defined",
     "output_type": "error",
     "traceback": [
      "\u001b[1;31m---------------------------------------------------------------------------\u001b[0m",
      "\u001b[1;31mNameError\u001b[0m                                 Traceback (most recent call last)",
      "\u001b[1;32m~\\AppData\\Local\\Temp\\ipykernel_5552\\639793373.py\u001b[0m in \u001b[0;36m<module>\u001b[1;34m\u001b[0m\n\u001b[0;32m     22\u001b[0m \u001b[1;33m\u001b[0m\u001b[0m\n\u001b[0;32m     23\u001b[0m \u001b[1;31m#transition distribution: trans_dist_ij = P(X_n = j | X_n-1 = i)\u001b[0m\u001b[1;33m\u001b[0m\u001b[1;33m\u001b[0m\u001b[0m\n\u001b[1;32m---> 24\u001b[1;33m \u001b[0mtrans_dist\u001b[0m \u001b[1;33m=\u001b[0m \u001b[0mset_trans\u001b[0m\u001b[1;33m(\u001b[0m\u001b[0mtrans_count\u001b[0m\u001b[1;33m)\u001b[0m\u001b[1;33m;\u001b[0m\u001b[1;33m\u001b[0m\u001b[1;33m\u001b[0m\u001b[0m\n\u001b[0m\u001b[0;32m     25\u001b[0m \u001b[1;33m\u001b[0m\u001b[0m\n\u001b[0;32m     26\u001b[0m \u001b[1;31m#game setup\u001b[0m\u001b[1;33m\u001b[0m\u001b[1;33m\u001b[0m\u001b[0m\n",
      "\u001b[1;31mNameError\u001b[0m: name 'set_trans' is not defined"
     ]
    }
   ],
   "source": [
    "import numpy as np;\n",
    "import matplotlib.pyplot as plt;\n",
    "\n",
    "#possible moves\n",
    "move = {\n",
    "    0 : \"rock\",\n",
    "    1 : \"paper\",\n",
    "    2 : \"scissors\"\n",
    "};\n",
    "\n",
    "#possible results\n",
    "result = {\n",
    "    1 : \"win\",\n",
    "    0 : \"draw\",\n",
    "    -1 : \"lose\"\n",
    "};\n",
    "\n",
    "#nominal count of transitions between moves ([rr,rp,rs], [pr,pp,ps], [sr,sp,ss])\n",
    "trans_count = np.array([[1,1,1],\n",
    "                    [1,1,1],\n",
    "                    [1,1,1]]);\n",
    "\n",
    "#transition distribution: trans_dist_ij = P(X_n = j | X_n-1 = i)\n",
    "trans_dist = set_trans(trans_count);\n",
    "\n",
    "#game setup\n",
    "turns = 2000;\n",
    "curr_turn = 1;\n",
    "score = 0;\n",
    "turn_arr = [];\n",
    "score_arr = [];\n",
    "\n",
    "#nominal oponent move\n",
    "prev_op_move = oponent_1()\n",
    "\n",
    "while curr_turn<=turns:\n",
    "    curr_move = np.random.choice(a=[1,2,0], replace=True, p=trans_dist[prev_op_move]);\n",
    "    curr_op_move = oponent_1()\n",
    "    trans_dist = upd_trans(trans_count,prev_op_move, curr_op_move );\n",
    "    prev_op_move = curr_op_move;\n",
    "    curr_result = check_result(curr_move, curr_op_move);\n",
    "    score += curr_result;\n",
    "\n",
    "    turn_arr.append(curr_turn);\n",
    "    score_arr.append(score);\n",
    "    curr_turn += 1;\n",
    "    \n",
    "show_plot(turn_arr, score_arr);"
   ]
  },
  {
   "cell_type": "code",
   "execution_count": 12,
   "metadata": {
    "pycharm": {
     "name": "#%%\n"
    }
   },
   "outputs": [],
   "source": [
    "def set_trans(matrix):\n",
    "    temp = np.array([0,0,0]);\n",
    "    for i in range(matrix.shape[0]):\n",
    "        row = [];\n",
    "        for j in range(matrix.shape[1]):\n",
    "            row.append(matrix[i][j]);\n",
    "        temp = np.vstack((temp,get_distribution(row)));\n",
    "    trans_matrix = np.delete(temp,0,0);\n",
    "    \n",
    "    return trans_matrix;  "
   ]
  },
  {
   "cell_type": "code",
   "execution_count": 24,
   "metadata": {
    "pycharm": {
     "name": "#%%\n"
    }
   },
   "outputs": [],
   "source": [
    "def get_distribution(row):\n",
    "    row_sum = sum(row);\n",
    "    dist = [];\n",
    "    for n in row:\n",
    "        dist.append(n/row_sum);\n",
    "    if sum(dist) != 1:\n",
    "        position = np.random.choice([0,1,2])\n",
    "        dist[position] -= sum(dist)-1;\n",
    "\n",
    "    return dist;"
   ]
  },
  {
   "cell_type": "code",
   "execution_count": 14,
   "metadata": {
    "pycharm": {
     "name": "#%%\n"
    }
   },
   "outputs": [],
   "source": [
    "def upd_trans(trans_count, x, y):\n",
    "    trans_count[x][y] += 1;\n",
    "    temp = set_trans(trans_count); \n",
    "    \n",
    "    return temp;"
   ]
  },
  {
   "cell_type": "code",
   "execution_count": 5,
   "metadata": {
    "pycharm": {
     "name": "#%%\n"
    }
   },
   "outputs": [],
   "source": [
    " def check_result(move, op_move):\n",
    "        if move == op_move:\n",
    "            return 0;\n",
    "        elif move-op_move == 1 or move-op_move == -2:\n",
    "            return 1;\n",
    "        else:\n",
    "            return -1;"
   ]
  },
  {
   "cell_type": "code",
   "execution_count": 6,
   "metadata": {
    "pycharm": {
     "name": "#%%\n"
    }
   },
   "outputs": [],
   "source": [
    "def oponent_1():\n",
    "    return 1;"
   ]
  },
  {
   "cell_type": "code",
   "execution_count": 7,
   "metadata": {
    "pycharm": {
     "name": "#%%\n"
    }
   },
   "outputs": [],
   "source": [
    "def oponent_2():\n",
    "    return np.random.choice(a=[0,1,2], replace=True, p=[0.2, 0.5, 0.3]);"
   ]
  },
  {
   "cell_type": "code",
   "execution_count": 26,
   "metadata": {
    "pycharm": {
     "name": "#%%\n"
    }
   },
   "outputs": [],
   "source": [
    "def show_plot(turns, score):\n",
    "    plt.plot(turns,score)\n",
    "    plt.title('Stats')\n",
    "    plt.xlabel('Turns')\n",
    "    plt.ylabel('Score')\n",
    "    plt.show()"
   ]
  }
 ],
 "metadata": {
  "kernelspec": {
   "display_name": "Python 3 (ipykernel)",
   "language": "python",
   "name": "python3"
  },
  "language_info": {
   "codemirror_mode": {
    "name": "ipython",
    "version": 3
   },
   "file_extension": ".py",
   "mimetype": "text/x-python",
   "name": "python",
   "nbconvert_exporter": "python",
   "pygments_lexer": "ipython3",
   "version": "3.9.13"
  }
 },
 "nbformat": 4,
 "nbformat_minor": 4
}
